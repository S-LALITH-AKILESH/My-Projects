{
 "cells": [
  {
   "cell_type": "code",
   "execution_count": 2,
   "id": "ab2acefa-b8bf-40a6-9a9b-2a603401f560",
   "metadata": {},
   "outputs": [
    {
     "data": {
      "text/html": [
       "        <script type=\"text/javascript\">\n",
       "        window.PlotlyConfig = {MathJaxConfig: 'local'};\n",
       "        if (window.MathJax && window.MathJax.Hub && window.MathJax.Hub.Config) {window.MathJax.Hub.Config({SVG: {font: \"STIX-Web\"}});}\n",
       "        if (typeof require !== 'undefined') {\n",
       "        require.undef(\"plotly\");\n",
       "        requirejs.config({\n",
       "            paths: {\n",
       "                'plotly': ['https://cdn.plot.ly/plotly-2.32.0.min']\n",
       "            }\n",
       "        });\n",
       "        require(['plotly'], function(Plotly) {\n",
       "            window._Plotly = Plotly;\n",
       "        });\n",
       "        }\n",
       "        </script>\n",
       "        "
      ]
     },
     "metadata": {},
     "output_type": "display_data"
    }
   ],
   "source": [
    "import numpy as np\n",
    "import pandas as pd\n",
    "from textblob import TextBlob\n",
    "import plotly.graph_objects as go\n",
    "import plotly.express as xp\n",
    "from plotly.offline import init_notebook_mode, iplot\n",
    "init_notebook_mode(connected=True)"
   ]
  },
  {
   "cell_type": "code",
   "execution_count": 3,
   "id": "605af60a-14a2-4241-9a4e-0328c019fbfa",
   "metadata": {},
   "outputs": [],
   "source": [
    "modi = pd.read_csv(\"modi_reviews.csv\")\n",
    "rahul = pd.read_csv(\"rahul_reviews.csv\")"
   ]
  },
  {
   "cell_type": "code",
   "execution_count": 4,
   "id": "1639953e-001d-40a1-ab8e-c42e2ad02d97",
   "metadata": {},
   "outputs": [
    {
     "data": {
      "text/html": [
       "<div>\n",
       "<style scoped>\n",
       "    .dataframe tbody tr th:only-of-type {\n",
       "        vertical-align: middle;\n",
       "    }\n",
       "\n",
       "    .dataframe tbody tr th {\n",
       "        vertical-align: top;\n",
       "    }\n",
       "\n",
       "    .dataframe thead th {\n",
       "        text-align: right;\n",
       "    }\n",
       "</style>\n",
       "<table border=\"1\" class=\"dataframe\">\n",
       "  <thead>\n",
       "    <tr style=\"text-align: right;\">\n",
       "      <th></th>\n",
       "      <th>Unnamed: 0</th>\n",
       "      <th>User</th>\n",
       "      <th>Tweet</th>\n",
       "    </tr>\n",
       "  </thead>\n",
       "  <tbody>\n",
       "    <tr>\n",
       "      <th>0</th>\n",
       "      <td>0</td>\n",
       "      <td>advosushildixit</td>\n",
       "      <td>@anjanaomkashyap I am seeing you as future #bj...</td>\n",
       "    </tr>\n",
       "    <tr>\n",
       "      <th>1</th>\n",
       "      <td>1</td>\n",
       "      <td>jiaeur</td>\n",
       "      <td>#LokSabhaElections2019 \\n23rd May 2019 will re...</td>\n",
       "    </tr>\n",
       "    <tr>\n",
       "      <th>2</th>\n",
       "      <td>2</td>\n",
       "      <td>PVenkatGandhi</td>\n",
       "      <td>#LokSabhaElections2019 \\n23rd May 2019 will re...</td>\n",
       "    </tr>\n",
       "  </tbody>\n",
       "</table>\n",
       "</div>"
      ],
      "text/plain": [
       "   Unnamed: 0             User  \\\n",
       "0           0  advosushildixit   \n",
       "1           1           jiaeur   \n",
       "2           2    PVenkatGandhi   \n",
       "\n",
       "                                               Tweet  \n",
       "0  @anjanaomkashyap I am seeing you as future #bj...  \n",
       "1  #LokSabhaElections2019 \\n23rd May 2019 will re...  \n",
       "2  #LokSabhaElections2019 \\n23rd May 2019 will re...  "
      ]
     },
     "execution_count": 4,
     "metadata": {},
     "output_type": "execute_result"
    }
   ],
   "source": [
    "modi.head(3)"
   ]
  },
  {
   "cell_type": "code",
   "execution_count": 5,
   "id": "761f831a-3f25-458c-8809-a5f32fa2d107",
   "metadata": {},
   "outputs": [
    {
     "data": {
      "text/plain": [
       "(25688, 3)"
      ]
     },
     "execution_count": 5,
     "metadata": {},
     "output_type": "execute_result"
    }
   ],
   "source": [
    "modi.shape"
   ]
  },
  {
   "cell_type": "code",
   "execution_count": 6,
   "id": "06003e7e-60da-482d-b9bd-470bcba82607",
   "metadata": {},
   "outputs": [
    {
     "data": {
      "text/html": [
       "<div>\n",
       "<style scoped>\n",
       "    .dataframe tbody tr th:only-of-type {\n",
       "        vertical-align: middle;\n",
       "    }\n",
       "\n",
       "    .dataframe tbody tr th {\n",
       "        vertical-align: top;\n",
       "    }\n",
       "\n",
       "    .dataframe thead th {\n",
       "        text-align: right;\n",
       "    }\n",
       "</style>\n",
       "<table border=\"1\" class=\"dataframe\">\n",
       "  <thead>\n",
       "    <tr style=\"text-align: right;\">\n",
       "      <th></th>\n",
       "      <th>Unnamed: 0</th>\n",
       "      <th>User</th>\n",
       "      <th>Tweet</th>\n",
       "    </tr>\n",
       "  </thead>\n",
       "  <tbody>\n",
       "    <tr>\n",
       "      <th>0</th>\n",
       "      <td>0</td>\n",
       "      <td>Sunnysweet16</td>\n",
       "      <td>Wonder why no academic or journalist asks INC ...</td>\n",
       "    </tr>\n",
       "    <tr>\n",
       "      <th>1</th>\n",
       "      <td>1</td>\n",
       "      <td>drnitinchaube</td>\n",
       "      <td>Congrats for the change #australiavotes2019 an...</td>\n",
       "    </tr>\n",
       "    <tr>\n",
       "      <th>2</th>\n",
       "      <td>2</td>\n",
       "      <td>mrvivek07</td>\n",
       "      <td>Peopel Say “Govt Ne 70 Years Kya kiya”.\\nUnse ...</td>\n",
       "    </tr>\n",
       "  </tbody>\n",
       "</table>\n",
       "</div>"
      ],
      "text/plain": [
       "   Unnamed: 0           User  \\\n",
       "0           0   Sunnysweet16   \n",
       "1           1  drnitinchaube   \n",
       "2           2      mrvivek07   \n",
       "\n",
       "                                               Tweet  \n",
       "0  Wonder why no academic or journalist asks INC ...  \n",
       "1  Congrats for the change #australiavotes2019 an...  \n",
       "2  Peopel Say “Govt Ne 70 Years Kya kiya”.\\nUnse ...  "
      ]
     },
     "execution_count": 6,
     "metadata": {},
     "output_type": "execute_result"
    }
   ],
   "source": [
    "rahul.head(3)"
   ]
  },
  {
   "cell_type": "code",
   "execution_count": 7,
   "id": "19339319-3992-49a0-a99e-5f3e682d5954",
   "metadata": {},
   "outputs": [
    {
     "data": {
      "text/plain": [
       "(14261, 3)"
      ]
     },
     "execution_count": 7,
     "metadata": {},
     "output_type": "execute_result"
    }
   ],
   "source": [
    "rahul.shape"
   ]
  },
  {
   "cell_type": "code",
   "execution_count": 8,
   "id": "701781ef-e433-479c-aa8b-8fb994cefa58",
   "metadata": {},
   "outputs": [
    {
     "data": {
      "text/plain": [
       "'@anjanaomkashyap I am seeing you as future #bjp spokesperson..\\nGood luck. Anjana Om Modi oops Kashyap.\\nJournalists like you changed the meaning of journalism. Janta maaf nai karege'"
      ]
     },
     "execution_count": 8,
     "metadata": {},
     "output_type": "execute_result"
    }
   ],
   "source": [
    "modi['Tweet'][0]"
   ]
  },
  {
   "cell_type": "code",
   "execution_count": 9,
   "id": "ebc1ea71-87b8-460c-b188-f2eb4f36c0c0",
   "metadata": {},
   "outputs": [
    {
     "data": {
      "text/plain": [
       "Sentiment(polarity=0.35, subjectivity=0.36250000000000004)"
      ]
     },
     "execution_count": 9,
     "metadata": {},
     "output_type": "execute_result"
    }
   ],
   "source": [
    "TextBlob(modi['Tweet'][0]).sentiment"
   ]
  },
  {
   "cell_type": "code",
   "execution_count": 10,
   "id": "db7ef16e-c864-49bb-90aa-fb0a7de55228",
   "metadata": {},
   "outputs": [
    {
     "data": {
      "text/plain": [
       "'@IYCTelangana @IncBasavakalyan @narendramodi @IYC @INCIndia @RahulGandhi @priyankagandhi @HardikPatel_ @Allavaru @keshavyadaviyc @srinivasiyc @srivatsayb @RakshaRamaiah @JM_Scindia This is called in #BJP language,\\n\"A Swatch &amp; Swasth Hindutva\" !!! This theory not applicable to any other person, except #BJPians! \\nQuestion: Demonic possession of !!!!'"
      ]
     },
     "execution_count": 10,
     "metadata": {},
     "output_type": "execute_result"
    }
   ],
   "source": [
    "rahul['Tweet'][10]"
   ]
  },
  {
   "cell_type": "code",
   "execution_count": 11,
   "id": "c58c1414-68ff-471b-88a7-79b1b239dea2",
   "metadata": {},
   "outputs": [
    {
     "data": {
      "text/plain": [
       "Sentiment(polarity=-0.3814697265625, subjectivity=0.375)"
      ]
     },
     "execution_count": 11,
     "metadata": {},
     "output_type": "execute_result"
    }
   ],
   "source": [
    "TextBlob(rahul['Tweet'][10]).sentiment"
   ]
  },
  {
   "cell_type": "code",
   "execution_count": 12,
   "id": "ffa1b688-5942-4cc8-a980-1d6e75c56ac6",
   "metadata": {},
   "outputs": [],
   "source": [
    "modi['Tweet'] = modi['Tweet'].astype(str)\n",
    "rahul['Tweet'] = rahul['Tweet'].astype(str)\n",
    "\n",
    "def find_polarity(review):\n",
    "    return TextBlob(review).sentiment.polarity"
   ]
  },
  {
   "cell_type": "code",
   "execution_count": 13,
   "id": "72dbb782-b732-4fd2-b44b-951b24ba87a8",
   "metadata": {},
   "outputs": [
    {
     "data": {
      "text/plain": [
       "-0.15000000000000002"
      ]
     },
     "execution_count": 13,
     "metadata": {},
     "output_type": "execute_result"
    }
   ],
   "source": [
    "find_polarity('I love coding and hate studying.')"
   ]
  },
  {
   "cell_type": "code",
   "execution_count": 14,
   "id": "fe47c8ee-4c90-45a0-9c53-aae97a88e9aa",
   "metadata": {},
   "outputs": [
    {
     "data": {
      "text/plain": [
       "0.5"
      ]
     },
     "execution_count": 14,
     "metadata": {},
     "output_type": "execute_result"
    }
   ],
   "source": [
    "find_polarity('I love coding')"
   ]
  },
  {
   "cell_type": "code",
   "execution_count": 15,
   "id": "1ff11d8b-6f21-4153-9a76-905c1411bbfb",
   "metadata": {},
   "outputs": [
    {
     "data": {
      "text/plain": [
       "0.0"
      ]
     },
     "execution_count": 15,
     "metadata": {},
     "output_type": "execute_result"
    }
   ],
   "source": [
    "find_polarity('I am living')"
   ]
  },
  {
   "cell_type": "code",
   "execution_count": 16,
   "id": "f9d8b0e7-4786-4f04-bca9-5bbc1f060692",
   "metadata": {},
   "outputs": [
    {
     "name": "stdout",
     "output_type": "stream",
     "text": [
      "<class 'pandas.core.frame.DataFrame'>\n",
      "RangeIndex: 25688 entries, 0 to 25687\n",
      "Data columns (total 3 columns):\n",
      " #   Column      Non-Null Count  Dtype \n",
      "---  ------      --------------  ----- \n",
      " 0   Unnamed: 0  25688 non-null  int64 \n",
      " 1   User        25683 non-null  object\n",
      " 2   Tweet       25688 non-null  object\n",
      "dtypes: int64(1), object(2)\n",
      "memory usage: 602.2+ KB\n"
     ]
    }
   ],
   "source": [
    "modi.info()"
   ]
  },
  {
   "cell_type": "code",
   "execution_count": 17,
   "id": "02ecbe2d-ce75-49ee-b40b-15b14e9ba952",
   "metadata": {},
   "outputs": [],
   "source": [
    "modi['polarity'] = modi['Tweet'].apply(find_polarity)\n",
    "rahul['polarity'] = rahul['Tweet'].apply(find_polarity)"
   ]
  },
  {
   "cell_type": "code",
   "execution_count": 18,
   "id": "e80f0160-5a82-468a-a1ba-62ccd71ed434",
   "metadata": {},
   "outputs": [
    {
     "data": {
      "text/html": [
       "<div>\n",
       "<style scoped>\n",
       "    .dataframe tbody tr th:only-of-type {\n",
       "        vertical-align: middle;\n",
       "    }\n",
       "\n",
       "    .dataframe tbody tr th {\n",
       "        vertical-align: top;\n",
       "    }\n",
       "\n",
       "    .dataframe thead th {\n",
       "        text-align: right;\n",
       "    }\n",
       "</style>\n",
       "<table border=\"1\" class=\"dataframe\">\n",
       "  <thead>\n",
       "    <tr style=\"text-align: right;\">\n",
       "      <th></th>\n",
       "      <th>Unnamed: 0</th>\n",
       "      <th>User</th>\n",
       "      <th>Tweet</th>\n",
       "      <th>polarity</th>\n",
       "    </tr>\n",
       "  </thead>\n",
       "  <tbody>\n",
       "    <tr>\n",
       "      <th>0</th>\n",
       "      <td>0</td>\n",
       "      <td>advosushildixit</td>\n",
       "      <td>@anjanaomkashyap I am seeing you as future #bj...</td>\n",
       "      <td>0.350000</td>\n",
       "    </tr>\n",
       "    <tr>\n",
       "      <th>1</th>\n",
       "      <td>1</td>\n",
       "      <td>jiaeur</td>\n",
       "      <td>#LokSabhaElections2019 \\n23rd May 2019 will re...</td>\n",
       "      <td>0.800000</td>\n",
       "    </tr>\n",
       "    <tr>\n",
       "      <th>2</th>\n",
       "      <td>2</td>\n",
       "      <td>PVenkatGandhi</td>\n",
       "      <td>#LokSabhaElections2019 \\n23rd May 2019 will re...</td>\n",
       "      <td>0.800000</td>\n",
       "    </tr>\n",
       "    <tr>\n",
       "      <th>3</th>\n",
       "      <td>3</td>\n",
       "      <td>TheNirbhay1</td>\n",
       "      <td>PM Modi creates a new record of being the only...</td>\n",
       "      <td>0.312121</td>\n",
       "    </tr>\n",
       "    <tr>\n",
       "      <th>4</th>\n",
       "      <td>4</td>\n",
       "      <td>ShakeChilli</td>\n",
       "      <td>@abhijitmajumder Appointment of Successor! \\n\\...</td>\n",
       "      <td>0.098788</td>\n",
       "    </tr>\n",
       "    <tr>\n",
       "      <th>...</th>\n",
       "      <td>...</td>\n",
       "      <td>...</td>\n",
       "      <td>...</td>\n",
       "      <td>...</td>\n",
       "    </tr>\n",
       "    <tr>\n",
       "      <th>25683</th>\n",
       "      <td>25683</td>\n",
       "      <td>shv_indian</td>\n",
       "      <td>#1DDrive #ModiSpeaksToNews18 #LokSabhaElection...</td>\n",
       "      <td>0.000000</td>\n",
       "    </tr>\n",
       "    <tr>\n",
       "      <th>25684</th>\n",
       "      <td>25684</td>\n",
       "      <td>SONUPINKOO</td>\n",
       "      <td>I am seriously worried about future of Indian ...</td>\n",
       "      <td>0.209524</td>\n",
       "    </tr>\n",
       "    <tr>\n",
       "      <th>25685</th>\n",
       "      <td>25685</td>\n",
       "      <td>SONUPINKOO</td>\n",
       "      <td>If @narendramodi is so Bad then Why does @INCI...</td>\n",
       "      <td>-0.700000</td>\n",
       "    </tr>\n",
       "    <tr>\n",
       "      <th>25686</th>\n",
       "      <td>25686</td>\n",
       "      <td>SONUPINKOO</td>\n",
       "      <td>On this 23rd March (Pakistan Day), I Urge all ...</td>\n",
       "      <td>0.000000</td>\n",
       "    </tr>\n",
       "    <tr>\n",
       "      <th>25687</th>\n",
       "      <td>25687</td>\n",
       "      <td>parthajit0101</td>\n",
       "      <td>@timesofindia #ArvindKejriwal, #AAP sirji pls ...</td>\n",
       "      <td>-0.213542</td>\n",
       "    </tr>\n",
       "  </tbody>\n",
       "</table>\n",
       "<p>25688 rows × 4 columns</p>\n",
       "</div>"
      ],
      "text/plain": [
       "       Unnamed: 0             User  \\\n",
       "0               0  advosushildixit   \n",
       "1               1           jiaeur   \n",
       "2               2    PVenkatGandhi   \n",
       "3               3      TheNirbhay1   \n",
       "4               4      ShakeChilli   \n",
       "...           ...              ...   \n",
       "25683       25683       shv_indian   \n",
       "25684       25684       SONUPINKOO   \n",
       "25685       25685       SONUPINKOO   \n",
       "25686       25686       SONUPINKOO   \n",
       "25687       25687    parthajit0101   \n",
       "\n",
       "                                                   Tweet  polarity  \n",
       "0      @anjanaomkashyap I am seeing you as future #bj...  0.350000  \n",
       "1      #LokSabhaElections2019 \\n23rd May 2019 will re...  0.800000  \n",
       "2      #LokSabhaElections2019 \\n23rd May 2019 will re...  0.800000  \n",
       "3      PM Modi creates a new record of being the only...  0.312121  \n",
       "4      @abhijitmajumder Appointment of Successor! \\n\\...  0.098788  \n",
       "...                                                  ...       ...  \n",
       "25683  #1DDrive #ModiSpeaksToNews18 #LokSabhaElection...  0.000000  \n",
       "25684  I am seriously worried about future of Indian ...  0.209524  \n",
       "25685  If @narendramodi is so Bad then Why does @INCI... -0.700000  \n",
       "25686  On this 23rd March (Pakistan Day), I Urge all ...  0.000000  \n",
       "25687  @timesofindia #ArvindKejriwal, #AAP sirji pls ... -0.213542  \n",
       "\n",
       "[25688 rows x 4 columns]"
      ]
     },
     "execution_count": 18,
     "metadata": {},
     "output_type": "execute_result"
    }
   ],
   "source": [
    "modi"
   ]
  },
  {
   "cell_type": "code",
   "execution_count": 19,
   "id": "8d2381ad-fa55-4ba5-97cd-8acc1b2ab094",
   "metadata": {},
   "outputs": [
    {
     "data": {
      "text/html": [
       "<div>\n",
       "<style scoped>\n",
       "    .dataframe tbody tr th:only-of-type {\n",
       "        vertical-align: middle;\n",
       "    }\n",
       "\n",
       "    .dataframe tbody tr th {\n",
       "        vertical-align: top;\n",
       "    }\n",
       "\n",
       "    .dataframe thead th {\n",
       "        text-align: right;\n",
       "    }\n",
       "</style>\n",
       "<table border=\"1\" class=\"dataframe\">\n",
       "  <thead>\n",
       "    <tr style=\"text-align: right;\">\n",
       "      <th></th>\n",
       "      <th>Unnamed: 0</th>\n",
       "      <th>User</th>\n",
       "      <th>Tweet</th>\n",
       "      <th>polarity</th>\n",
       "    </tr>\n",
       "  </thead>\n",
       "  <tbody>\n",
       "    <tr>\n",
       "      <th>0</th>\n",
       "      <td>0</td>\n",
       "      <td>Sunnysweet16</td>\n",
       "      <td>Wonder why no academic or journalist asks INC ...</td>\n",
       "      <td>0.218750</td>\n",
       "    </tr>\n",
       "    <tr>\n",
       "      <th>1</th>\n",
       "      <td>1</td>\n",
       "      <td>drnitinchaube</td>\n",
       "      <td>Congrats for the change #australiavotes2019 an...</td>\n",
       "      <td>0.000000</td>\n",
       "    </tr>\n",
       "    <tr>\n",
       "      <th>2</th>\n",
       "      <td>2</td>\n",
       "      <td>mrvivek07</td>\n",
       "      <td>Peopel Say “Govt Ne 70 Years Kya kiya”.\\nUnse ...</td>\n",
       "      <td>0.000000</td>\n",
       "    </tr>\n",
       "    <tr>\n",
       "      <th>3</th>\n",
       "      <td>3</td>\n",
       "      <td>JosephPravinP</td>\n",
       "      <td>@ajaymaken @RahulGandhi And as a final touch, ...</td>\n",
       "      <td>0.320000</td>\n",
       "    </tr>\n",
       "    <tr>\n",
       "      <th>4</th>\n",
       "      <td>4</td>\n",
       "      <td>VandanaMegastar</td>\n",
       "      <td>#LokSabhaElections2019 Anyone not having mass ...</td>\n",
       "      <td>-0.166667</td>\n",
       "    </tr>\n",
       "    <tr>\n",
       "      <th>...</th>\n",
       "      <td>...</td>\n",
       "      <td>...</td>\n",
       "      <td>...</td>\n",
       "      <td>...</td>\n",
       "    </tr>\n",
       "    <tr>\n",
       "      <th>14256</th>\n",
       "      <td>14256</td>\n",
       "      <td>SunjayJK</td>\n",
       "      <td>@quizzicalguy In this #LokSabhaElections2019, ...</td>\n",
       "      <td>0.000000</td>\n",
       "    </tr>\n",
       "    <tr>\n",
       "      <th>14257</th>\n",
       "      <td>14257</td>\n",
       "      <td>SunjayJK</td>\n",
       "      <td>@AnumaVidisha @RahulGandhi @ArvindKejriwal whe...</td>\n",
       "      <td>-0.500000</td>\n",
       "    </tr>\n",
       "    <tr>\n",
       "      <th>14258</th>\n",
       "      <td>14258</td>\n",
       "      <td>RAMANKAIRA</td>\n",
       "      <td>@sherryontopp Early morning #political move af...</td>\n",
       "      <td>0.080000</td>\n",
       "    </tr>\n",
       "    <tr>\n",
       "      <th>14259</th>\n",
       "      <td>14259</td>\n",
       "      <td>RAMANKAIRA</td>\n",
       "      <td>@mayankgandhi04 @mallesh_2004 Early morning #p...</td>\n",
       "      <td>0.080000</td>\n",
       "    </tr>\n",
       "    <tr>\n",
       "      <th>14260</th>\n",
       "      <td>14260</td>\n",
       "      <td>RAMANKAIRA</td>\n",
       "      <td>@DrKumarVishwas Early morning #political move ...</td>\n",
       "      <td>0.080000</td>\n",
       "    </tr>\n",
       "  </tbody>\n",
       "</table>\n",
       "<p>14261 rows × 4 columns</p>\n",
       "</div>"
      ],
      "text/plain": [
       "       Unnamed: 0             User  \\\n",
       "0               0     Sunnysweet16   \n",
       "1               1    drnitinchaube   \n",
       "2               2        mrvivek07   \n",
       "3               3    JosephPravinP   \n",
       "4               4  VandanaMegastar   \n",
       "...           ...              ...   \n",
       "14256       14256         SunjayJK   \n",
       "14257       14257         SunjayJK   \n",
       "14258       14258       RAMANKAIRA   \n",
       "14259       14259       RAMANKAIRA   \n",
       "14260       14260       RAMANKAIRA   \n",
       "\n",
       "                                                   Tweet  polarity  \n",
       "0      Wonder why no academic or journalist asks INC ...  0.218750  \n",
       "1      Congrats for the change #australiavotes2019 an...  0.000000  \n",
       "2      Peopel Say “Govt Ne 70 Years Kya kiya”.\\nUnse ...  0.000000  \n",
       "3      @ajaymaken @RahulGandhi And as a final touch, ...  0.320000  \n",
       "4      #LokSabhaElections2019 Anyone not having mass ... -0.166667  \n",
       "...                                                  ...       ...  \n",
       "14256  @quizzicalguy In this #LokSabhaElections2019, ...  0.000000  \n",
       "14257  @AnumaVidisha @RahulGandhi @ArvindKejriwal whe... -0.500000  \n",
       "14258  @sherryontopp Early morning #political move af...  0.080000  \n",
       "14259  @mayankgandhi04 @mallesh_2004 Early morning #p...  0.080000  \n",
       "14260  @DrKumarVishwas Early morning #political move ...  0.080000  \n",
       "\n",
       "[14261 rows x 4 columns]"
      ]
     },
     "execution_count": 19,
     "metadata": {},
     "output_type": "execute_result"
    }
   ],
   "source": [
    "rahul"
   ]
  },
  {
   "cell_type": "code",
   "execution_count": 20,
   "id": "4b35b486-65b1-4769-978c-c010628a72d2",
   "metadata": {},
   "outputs": [
    {
     "name": "stderr",
     "output_type": "stream",
     "text": [
      "C:\\Users\\ASUS\\AppData\\Local\\Temp\\ipykernel_14100\\4292824417.py:2: FutureWarning:\n",
      "\n",
      "ChainedAssignmentError: behaviour will change in pandas 3.0!\n",
      "You are setting values through chained assignment. Currently this works in certain cases, but when using Copy-on-Write (which will become the default behaviour in pandas 3.0) this will never work to update the original DataFrame or Series, because the intermediate object on which we are setting values will behave as a copy.\n",
      "A typical example is when you are setting values in a column of a DataFrame, like:\n",
      "\n",
      "df[\"col\"][row_indexer] = value\n",
      "\n",
      "Use `df.loc[row_indexer, \"col\"] = values` instead, to perform the assignment in a single step and ensure this keeps updating the original `df`.\n",
      "\n",
      "See the caveats in the documentation: https://pandas.pydata.org/pandas-docs/stable/user_guide/indexing.html#returning-a-view-versus-a-copy\n",
      "\n",
      "\n",
      "C:\\Users\\ASUS\\AppData\\Local\\Temp\\ipykernel_14100\\4292824417.py:2: SettingWithCopyWarning:\n",
      "\n",
      "\n",
      "A value is trying to be set on a copy of a slice from a DataFrame\n",
      "\n",
      "See the caveats in the documentation: https://pandas.pydata.org/pandas-docs/stable/user_guide/indexing.html#returning-a-view-versus-a-copy\n",
      "\n",
      "C:\\Users\\ASUS\\AppData\\Local\\Temp\\ipykernel_14100\\4292824417.py:5: FutureWarning:\n",
      "\n",
      "ChainedAssignmentError: behaviour will change in pandas 3.0!\n",
      "You are setting values through chained assignment. Currently this works in certain cases, but when using Copy-on-Write (which will become the default behaviour in pandas 3.0) this will never work to update the original DataFrame or Series, because the intermediate object on which we are setting values will behave as a copy.\n",
      "A typical example is when you are setting values in a column of a DataFrame, like:\n",
      "\n",
      "df[\"col\"][row_indexer] = value\n",
      "\n",
      "Use `df.loc[row_indexer, \"col\"] = values` instead, to perform the assignment in a single step and ensure this keeps updating the original `df`.\n",
      "\n",
      "See the caveats in the documentation: https://pandas.pydata.org/pandas-docs/stable/user_guide/indexing.html#returning-a-view-versus-a-copy\n",
      "\n",
      "\n",
      "C:\\Users\\ASUS\\AppData\\Local\\Temp\\ipykernel_14100\\4292824417.py:5: SettingWithCopyWarning:\n",
      "\n",
      "\n",
      "A value is trying to be set on a copy of a slice from a DataFrame\n",
      "\n",
      "See the caveats in the documentation: https://pandas.pydata.org/pandas-docs/stable/user_guide/indexing.html#returning-a-view-versus-a-copy\n",
      "\n"
     ]
    }
   ],
   "source": [
    "modi['Label'] = np.where(modi['polarity']>0,'positive','negative')\n",
    "modi['Label'][modi['polarity']==0]='neutral'\n",
    "\n",
    "rahul['Label'] = np.where(rahul['polarity']>0,'positive','negative')\n",
    "rahul['Label'][rahul['polarity']==0]='neutral'"
   ]
  },
  {
   "cell_type": "code",
   "execution_count": 21,
   "id": "61c02bd3-595e-4c9a-a28e-c54753b5913e",
   "metadata": {},
   "outputs": [
    {
     "data": {
      "text/html": [
       "<div>\n",
       "<style scoped>\n",
       "    .dataframe tbody tr th:only-of-type {\n",
       "        vertical-align: middle;\n",
       "    }\n",
       "\n",
       "    .dataframe tbody tr th {\n",
       "        vertical-align: top;\n",
       "    }\n",
       "\n",
       "    .dataframe thead th {\n",
       "        text-align: right;\n",
       "    }\n",
       "</style>\n",
       "<table border=\"1\" class=\"dataframe\">\n",
       "  <thead>\n",
       "    <tr style=\"text-align: right;\">\n",
       "      <th></th>\n",
       "      <th>Unnamed: 0</th>\n",
       "      <th>User</th>\n",
       "      <th>Tweet</th>\n",
       "      <th>polarity</th>\n",
       "      <th>Label</th>\n",
       "    </tr>\n",
       "  </thead>\n",
       "  <tbody>\n",
       "    <tr>\n",
       "      <th>0</th>\n",
       "      <td>0</td>\n",
       "      <td>advosushildixit</td>\n",
       "      <td>@anjanaomkashyap I am seeing you as future #bj...</td>\n",
       "      <td>0.350000</td>\n",
       "      <td>positive</td>\n",
       "    </tr>\n",
       "    <tr>\n",
       "      <th>1</th>\n",
       "      <td>1</td>\n",
       "      <td>jiaeur</td>\n",
       "      <td>#LokSabhaElections2019 \\n23rd May 2019 will re...</td>\n",
       "      <td>0.800000</td>\n",
       "      <td>positive</td>\n",
       "    </tr>\n",
       "    <tr>\n",
       "      <th>2</th>\n",
       "      <td>2</td>\n",
       "      <td>PVenkatGandhi</td>\n",
       "      <td>#LokSabhaElections2019 \\n23rd May 2019 will re...</td>\n",
       "      <td>0.800000</td>\n",
       "      <td>positive</td>\n",
       "    </tr>\n",
       "    <tr>\n",
       "      <th>3</th>\n",
       "      <td>3</td>\n",
       "      <td>TheNirbhay1</td>\n",
       "      <td>PM Modi creates a new record of being the only...</td>\n",
       "      <td>0.312121</td>\n",
       "      <td>positive</td>\n",
       "    </tr>\n",
       "    <tr>\n",
       "      <th>4</th>\n",
       "      <td>4</td>\n",
       "      <td>ShakeChilli</td>\n",
       "      <td>@abhijitmajumder Appointment of Successor! \\n\\...</td>\n",
       "      <td>0.098788</td>\n",
       "      <td>positive</td>\n",
       "    </tr>\n",
       "    <tr>\n",
       "      <th>5</th>\n",
       "      <td>5</td>\n",
       "      <td>UttarrPradesh</td>\n",
       "      <td>Which of the following should be top priority ...</td>\n",
       "      <td>0.250000</td>\n",
       "      <td>positive</td>\n",
       "    </tr>\n",
       "    <tr>\n",
       "      <th>6</th>\n",
       "      <td>6</td>\n",
       "      <td>Mdsr20351488</td>\n",
       "      <td>After 5yrs of Modi 🙁\\n\\n-SC vs SC\\n-EC vs EC\\n...</td>\n",
       "      <td>0.000000</td>\n",
       "      <td>neutral</td>\n",
       "    </tr>\n",
       "    <tr>\n",
       "      <th>7</th>\n",
       "      <td>7</td>\n",
       "      <td>ShaileshWrites</td>\n",
       "      <td>@RenukaJain6\\nI still remember your video mass...</td>\n",
       "      <td>-0.500000</td>\n",
       "      <td>negative</td>\n",
       "    </tr>\n",
       "    <tr>\n",
       "      <th>8</th>\n",
       "      <td>8</td>\n",
       "      <td>iamljp</td>\n",
       "      <td>#bjp @BJP4India @INCIndia @INCKarnataka how mu...</td>\n",
       "      <td>-0.342857</td>\n",
       "      <td>negative</td>\n",
       "    </tr>\n",
       "    <tr>\n",
       "      <th>9</th>\n",
       "      <td>9</td>\n",
       "      <td>TheShobhitAzad</td>\n",
       "      <td>#AzadPrediction\\n#LokSabhaElections2019 \\n\\nBJ...</td>\n",
       "      <td>0.000000</td>\n",
       "      <td>neutral</td>\n",
       "    </tr>\n",
       "  </tbody>\n",
       "</table>\n",
       "</div>"
      ],
      "text/plain": [
       "   Unnamed: 0             User  \\\n",
       "0           0  advosushildixit   \n",
       "1           1           jiaeur   \n",
       "2           2    PVenkatGandhi   \n",
       "3           3      TheNirbhay1   \n",
       "4           4      ShakeChilli   \n",
       "5           5    UttarrPradesh   \n",
       "6           6     Mdsr20351488   \n",
       "7           7   ShaileshWrites   \n",
       "8           8           iamljp   \n",
       "9           9   TheShobhitAzad   \n",
       "\n",
       "                                               Tweet  polarity     Label  \n",
       "0  @anjanaomkashyap I am seeing you as future #bj...  0.350000  positive  \n",
       "1  #LokSabhaElections2019 \\n23rd May 2019 will re...  0.800000  positive  \n",
       "2  #LokSabhaElections2019 \\n23rd May 2019 will re...  0.800000  positive  \n",
       "3  PM Modi creates a new record of being the only...  0.312121  positive  \n",
       "4  @abhijitmajumder Appointment of Successor! \\n\\...  0.098788  positive  \n",
       "5  Which of the following should be top priority ...  0.250000  positive  \n",
       "6  After 5yrs of Modi 🙁\\n\\n-SC vs SC\\n-EC vs EC\\n...  0.000000   neutral  \n",
       "7  @RenukaJain6\\nI still remember your video mass... -0.500000  negative  \n",
       "8  #bjp @BJP4India @INCIndia @INCKarnataka how mu... -0.342857  negative  \n",
       "9  #AzadPrediction\\n#LokSabhaElections2019 \\n\\nBJ...  0.000000   neutral  "
      ]
     },
     "execution_count": 21,
     "metadata": {},
     "output_type": "execute_result"
    }
   ],
   "source": [
    "modi.head(10)"
   ]
  },
  {
   "cell_type": "code",
   "execution_count": 22,
   "id": "e0a600b1-83e6-4611-80d1-0a990ef0e292",
   "metadata": {},
   "outputs": [
    {
     "data": {
      "text/html": [
       "<div>\n",
       "<style scoped>\n",
       "    .dataframe tbody tr th:only-of-type {\n",
       "        vertical-align: middle;\n",
       "    }\n",
       "\n",
       "    .dataframe tbody tr th {\n",
       "        vertical-align: top;\n",
       "    }\n",
       "\n",
       "    .dataframe thead th {\n",
       "        text-align: right;\n",
       "    }\n",
       "</style>\n",
       "<table border=\"1\" class=\"dataframe\">\n",
       "  <thead>\n",
       "    <tr style=\"text-align: right;\">\n",
       "      <th></th>\n",
       "      <th>Unnamed: 0</th>\n",
       "      <th>User</th>\n",
       "      <th>Tweet</th>\n",
       "      <th>polarity</th>\n",
       "      <th>Label</th>\n",
       "    </tr>\n",
       "  </thead>\n",
       "  <tbody>\n",
       "    <tr>\n",
       "      <th>0</th>\n",
       "      <td>0</td>\n",
       "      <td>Sunnysweet16</td>\n",
       "      <td>Wonder why no academic or journalist asks INC ...</td>\n",
       "      <td>0.218750</td>\n",
       "      <td>positive</td>\n",
       "    </tr>\n",
       "    <tr>\n",
       "      <th>1</th>\n",
       "      <td>1</td>\n",
       "      <td>drnitinchaube</td>\n",
       "      <td>Congrats for the change #australiavotes2019 an...</td>\n",
       "      <td>0.000000</td>\n",
       "      <td>neutral</td>\n",
       "    </tr>\n",
       "    <tr>\n",
       "      <th>2</th>\n",
       "      <td>2</td>\n",
       "      <td>mrvivek07</td>\n",
       "      <td>Peopel Say “Govt Ne 70 Years Kya kiya”.\\nUnse ...</td>\n",
       "      <td>0.000000</td>\n",
       "      <td>neutral</td>\n",
       "    </tr>\n",
       "    <tr>\n",
       "      <th>3</th>\n",
       "      <td>3</td>\n",
       "      <td>JosephPravinP</td>\n",
       "      <td>@ajaymaken @RahulGandhi And as a final touch, ...</td>\n",
       "      <td>0.320000</td>\n",
       "      <td>positive</td>\n",
       "    </tr>\n",
       "    <tr>\n",
       "      <th>4</th>\n",
       "      <td>4</td>\n",
       "      <td>VandanaMegastar</td>\n",
       "      <td>#LokSabhaElections2019 Anyone not having mass ...</td>\n",
       "      <td>-0.166667</td>\n",
       "      <td>negative</td>\n",
       "    </tr>\n",
       "    <tr>\n",
       "      <th>5</th>\n",
       "      <td>5</td>\n",
       "      <td>RGspeak</td>\n",
       "      <td>@INCIndia should release a video of @RahulGand...</td>\n",
       "      <td>0.400000</td>\n",
       "      <td>positive</td>\n",
       "    </tr>\n",
       "    <tr>\n",
       "      <th>6</th>\n",
       "      <td>6</td>\n",
       "      <td>SandipGhose</td>\n",
       "      <td>@thakkar_sameet @BDUTT @surjitbhalla 4/n smack...</td>\n",
       "      <td>0.000000</td>\n",
       "      <td>neutral</td>\n",
       "    </tr>\n",
       "    <tr>\n",
       "      <th>7</th>\n",
       "      <td>7</td>\n",
       "      <td>__Shivampandey</td>\n",
       "      <td>Rahul Gandhi Spotted in Switzerland, 1 hour ag...</td>\n",
       "      <td>0.350000</td>\n",
       "      <td>positive</td>\n",
       "    </tr>\n",
       "    <tr>\n",
       "      <th>8</th>\n",
       "      <td>8</td>\n",
       "      <td>usman_majid1</td>\n",
       "      <td>BJP will be nowhere in India after May 23. BJP...</td>\n",
       "      <td>0.000000</td>\n",
       "      <td>neutral</td>\n",
       "    </tr>\n",
       "    <tr>\n",
       "      <th>9</th>\n",
       "      <td>9</td>\n",
       "      <td>pintoo2060</td>\n",
       "      <td>#Punjab \\nBhatinda- cong-  Sad neck to neck \\n...</td>\n",
       "      <td>-0.175000</td>\n",
       "      <td>negative</td>\n",
       "    </tr>\n",
       "  </tbody>\n",
       "</table>\n",
       "</div>"
      ],
      "text/plain": [
       "   Unnamed: 0             User  \\\n",
       "0           0     Sunnysweet16   \n",
       "1           1    drnitinchaube   \n",
       "2           2        mrvivek07   \n",
       "3           3    JosephPravinP   \n",
       "4           4  VandanaMegastar   \n",
       "5           5          RGspeak   \n",
       "6           6      SandipGhose   \n",
       "7           7   __Shivampandey   \n",
       "8           8     usman_majid1   \n",
       "9           9       pintoo2060   \n",
       "\n",
       "                                               Tweet  polarity     Label  \n",
       "0  Wonder why no academic or journalist asks INC ...  0.218750  positive  \n",
       "1  Congrats for the change #australiavotes2019 an...  0.000000   neutral  \n",
       "2  Peopel Say “Govt Ne 70 Years Kya kiya”.\\nUnse ...  0.000000   neutral  \n",
       "3  @ajaymaken @RahulGandhi And as a final touch, ...  0.320000  positive  \n",
       "4  #LokSabhaElections2019 Anyone not having mass ... -0.166667  negative  \n",
       "5  @INCIndia should release a video of @RahulGand...  0.400000  positive  \n",
       "6  @thakkar_sameet @BDUTT @surjitbhalla 4/n smack...  0.000000   neutral  \n",
       "7  Rahul Gandhi Spotted in Switzerland, 1 hour ag...  0.350000  positive  \n",
       "8  BJP will be nowhere in India after May 23. BJP...  0.000000   neutral  \n",
       "9  #Punjab \\nBhatinda- cong-  Sad neck to neck \\n... -0.175000  negative  "
      ]
     },
     "execution_count": 22,
     "metadata": {},
     "output_type": "execute_result"
    }
   ],
   "source": [
    "rahul.head(10)"
   ]
  },
  {
   "cell_type": "code",
   "execution_count": 23,
   "id": "41666ecf-578e-4b74-ba81-25bcc70aa60b",
   "metadata": {},
   "outputs": [
    {
     "data": {
      "text/html": [
       "<div>\n",
       "<style scoped>\n",
       "    .dataframe tbody tr th:only-of-type {\n",
       "        vertical-align: middle;\n",
       "    }\n",
       "\n",
       "    .dataframe tbody tr th {\n",
       "        vertical-align: top;\n",
       "    }\n",
       "\n",
       "    .dataframe thead th {\n",
       "        text-align: right;\n",
       "    }\n",
       "</style>\n",
       "<table border=\"1\" class=\"dataframe\">\n",
       "  <thead>\n",
       "    <tr style=\"text-align: right;\">\n",
       "      <th></th>\n",
       "      <th>Unnamed: 0</th>\n",
       "      <th>User</th>\n",
       "      <th>Tweet</th>\n",
       "      <th>polarity</th>\n",
       "      <th>Label</th>\n",
       "    </tr>\n",
       "  </thead>\n",
       "  <tbody>\n",
       "    <tr>\n",
       "      <th>6</th>\n",
       "      <td>6</td>\n",
       "      <td>Mdsr20351488</td>\n",
       "      <td>After 5yrs of Modi 🙁\\n\\n-SC vs SC\\n-EC vs EC\\n...</td>\n",
       "      <td>0.0</td>\n",
       "      <td>neutral</td>\n",
       "    </tr>\n",
       "    <tr>\n",
       "      <th>9</th>\n",
       "      <td>9</td>\n",
       "      <td>TheShobhitAzad</td>\n",
       "      <td>#AzadPrediction\\n#LokSabhaElections2019 \\n\\nBJ...</td>\n",
       "      <td>0.0</td>\n",
       "      <td>neutral</td>\n",
       "    </tr>\n",
       "    <tr>\n",
       "      <th>10</th>\n",
       "      <td>10</td>\n",
       "      <td>sheikh541</td>\n",
       "      <td>#BJP was renamed as Safroon Party then again i...</td>\n",
       "      <td>0.0</td>\n",
       "      <td>neutral</td>\n",
       "    </tr>\n",
       "    <tr>\n",
       "      <th>20</th>\n",
       "      <td>20</td>\n",
       "      <td>UdayiCODE</td>\n",
       "      <td>I am seeing 3 Options for PM this time #Modi #...</td>\n",
       "      <td>0.0</td>\n",
       "      <td>neutral</td>\n",
       "    </tr>\n",
       "    <tr>\n",
       "      <th>21</th>\n",
       "      <td>21</td>\n",
       "      <td>SandipGhose</td>\n",
       "      <td>@thakkar_sameet @BDUTT @surjitbhalla 4/n smack...</td>\n",
       "      <td>0.0</td>\n",
       "      <td>neutral</td>\n",
       "    </tr>\n",
       "    <tr>\n",
       "      <th>...</th>\n",
       "      <td>...</td>\n",
       "      <td>...</td>\n",
       "      <td>...</td>\n",
       "      <td>...</td>\n",
       "      <td>...</td>\n",
       "    </tr>\n",
       "    <tr>\n",
       "      <th>25674</th>\n",
       "      <td>25674</td>\n",
       "      <td>CrazySatire</td>\n",
       "      <td>Poll:\\nWhich province (s) of Pakistan after di...</td>\n",
       "      <td>0.0</td>\n",
       "      <td>neutral</td>\n",
       "    </tr>\n",
       "    <tr>\n",
       "      <th>25676</th>\n",
       "      <td>25676</td>\n",
       "      <td>SunjayJK</td>\n",
       "      <td>@IASassociation MT:We stand by our @IPS_Associ...</td>\n",
       "      <td>0.0</td>\n",
       "      <td>neutral</td>\n",
       "    </tr>\n",
       "    <tr>\n",
       "      <th>25682</th>\n",
       "      <td>25682</td>\n",
       "      <td>CrazySatire</td>\n",
       "      <td>No one calling that ‘BJP is communal’ in this ...</td>\n",
       "      <td>0.0</td>\n",
       "      <td>neutral</td>\n",
       "    </tr>\n",
       "    <tr>\n",
       "      <th>25683</th>\n",
       "      <td>25683</td>\n",
       "      <td>shv_indian</td>\n",
       "      <td>#1DDrive #ModiSpeaksToNews18 #LokSabhaElection...</td>\n",
       "      <td>0.0</td>\n",
       "      <td>neutral</td>\n",
       "    </tr>\n",
       "    <tr>\n",
       "      <th>25686</th>\n",
       "      <td>25686</td>\n",
       "      <td>SONUPINKOO</td>\n",
       "      <td>On this 23rd March (Pakistan Day), I Urge all ...</td>\n",
       "      <td>0.0</td>\n",
       "      <td>neutral</td>\n",
       "    </tr>\n",
       "  </tbody>\n",
       "</table>\n",
       "<p>8206 rows × 5 columns</p>\n",
       "</div>"
      ],
      "text/plain": [
       "       Unnamed: 0            User  \\\n",
       "6               6    Mdsr20351488   \n",
       "9               9  TheShobhitAzad   \n",
       "10             10       sheikh541   \n",
       "20             20       UdayiCODE   \n",
       "21             21     SandipGhose   \n",
       "...           ...             ...   \n",
       "25674       25674     CrazySatire   \n",
       "25676       25676        SunjayJK   \n",
       "25682       25682     CrazySatire   \n",
       "25683       25683      shv_indian   \n",
       "25686       25686      SONUPINKOO   \n",
       "\n",
       "                                                   Tweet  polarity    Label  \n",
       "6      After 5yrs of Modi 🙁\\n\\n-SC vs SC\\n-EC vs EC\\n...       0.0  neutral  \n",
       "9      #AzadPrediction\\n#LokSabhaElections2019 \\n\\nBJ...       0.0  neutral  \n",
       "10     #BJP was renamed as Safroon Party then again i...       0.0  neutral  \n",
       "20     I am seeing 3 Options for PM this time #Modi #...       0.0  neutral  \n",
       "21     @thakkar_sameet @BDUTT @surjitbhalla 4/n smack...       0.0  neutral  \n",
       "...                                                  ...       ...      ...  \n",
       "25674  Poll:\\nWhich province (s) of Pakistan after di...       0.0  neutral  \n",
       "25676  @IASassociation MT:We stand by our @IPS_Associ...       0.0  neutral  \n",
       "25682  No one calling that ‘BJP is communal’ in this ...       0.0  neutral  \n",
       "25683  #1DDrive #ModiSpeaksToNews18 #LokSabhaElection...       0.0  neutral  \n",
       "25686  On this 23rd March (Pakistan Day), I Urge all ...       0.0  neutral  \n",
       "\n",
       "[8206 rows x 5 columns]"
      ]
     },
     "execution_count": 23,
     "metadata": {},
     "output_type": "execute_result"
    }
   ],
   "source": [
    "neutral_modi = modi[modi['polarity']==0.0000]\n",
    "neutral_modi"
   ]
  },
  {
   "cell_type": "code",
   "execution_count": 24,
   "id": "06a6bd99-de40-4330-a360-ff1bcfaacb3f",
   "metadata": {},
   "outputs": [],
   "source": [
    "remove_neutral_modi = modi['polarity'].isin(neutral_modi['polarity'])\n",
    "modi.drop(modi[remove_neutral_modi].index,inplace=True)"
   ]
  },
  {
   "cell_type": "code",
   "execution_count": 25,
   "id": "c24a33b7-1841-4f78-9743-a4792128f4c8",
   "metadata": {},
   "outputs": [
    {
     "name": "stdout",
     "output_type": "stream",
     "text": [
      "(8206, 5)\n",
      "(17482, 5)\n"
     ]
    }
   ],
   "source": [
    "print(neutral_modi.shape)\n",
    "print(modi.shape)"
   ]
  },
  {
   "cell_type": "code",
   "execution_count": 26,
   "id": "238c8586-9beb-485b-8422-73e3fbc4b716",
   "metadata": {},
   "outputs": [
    {
     "data": {
      "text/html": [
       "<div>\n",
       "<style scoped>\n",
       "    .dataframe tbody tr th:only-of-type {\n",
       "        vertical-align: middle;\n",
       "    }\n",
       "\n",
       "    .dataframe tbody tr th {\n",
       "        vertical-align: top;\n",
       "    }\n",
       "\n",
       "    .dataframe thead th {\n",
       "        text-align: right;\n",
       "    }\n",
       "</style>\n",
       "<table border=\"1\" class=\"dataframe\">\n",
       "  <thead>\n",
       "    <tr style=\"text-align: right;\">\n",
       "      <th></th>\n",
       "      <th>Unnamed: 0</th>\n",
       "      <th>User</th>\n",
       "      <th>Tweet</th>\n",
       "      <th>polarity</th>\n",
       "      <th>Label</th>\n",
       "    </tr>\n",
       "  </thead>\n",
       "  <tbody>\n",
       "    <tr>\n",
       "      <th>1</th>\n",
       "      <td>1</td>\n",
       "      <td>drnitinchaube</td>\n",
       "      <td>Congrats for the change #australiavotes2019 an...</td>\n",
       "      <td>0.0</td>\n",
       "      <td>neutral</td>\n",
       "    </tr>\n",
       "    <tr>\n",
       "      <th>2</th>\n",
       "      <td>2</td>\n",
       "      <td>mrvivek07</td>\n",
       "      <td>Peopel Say “Govt Ne 70 Years Kya kiya”.\\nUnse ...</td>\n",
       "      <td>0.0</td>\n",
       "      <td>neutral</td>\n",
       "    </tr>\n",
       "    <tr>\n",
       "      <th>6</th>\n",
       "      <td>6</td>\n",
       "      <td>SandipGhose</td>\n",
       "      <td>@thakkar_sameet @BDUTT @surjitbhalla 4/n smack...</td>\n",
       "      <td>0.0</td>\n",
       "      <td>neutral</td>\n",
       "    </tr>\n",
       "    <tr>\n",
       "      <th>8</th>\n",
       "      <td>8</td>\n",
       "      <td>usman_majid1</td>\n",
       "      <td>BJP will be nowhere in India after May 23. BJP...</td>\n",
       "      <td>0.0</td>\n",
       "      <td>neutral</td>\n",
       "    </tr>\n",
       "    <tr>\n",
       "      <th>12</th>\n",
       "      <td>12</td>\n",
       "      <td>mayursejpal</td>\n",
       "      <td>My Predictions\\n\\nBJP+NDA = 300 to 310\\nCongre...</td>\n",
       "      <td>0.0</td>\n",
       "      <td>neutral</td>\n",
       "    </tr>\n",
       "    <tr>\n",
       "      <th>...</th>\n",
       "      <td>...</td>\n",
       "      <td>...</td>\n",
       "      <td>...</td>\n",
       "      <td>...</td>\n",
       "      <td>...</td>\n",
       "    </tr>\n",
       "    <tr>\n",
       "      <th>14238</th>\n",
       "      <td>14238</td>\n",
       "      <td>vishantsarkar</td>\n",
       "      <td>@RahulGandhi The year has come 2019 when Natio...</td>\n",
       "      <td>0.0</td>\n",
       "      <td>neutral</td>\n",
       "    </tr>\n",
       "    <tr>\n",
       "      <th>14240</th>\n",
       "      <td>14240</td>\n",
       "      <td>CrazySatire</td>\n",
       "      <td>@nmannathukkaren @ShashiTharoor Modi’s fate wi...</td>\n",
       "      <td>0.0</td>\n",
       "      <td>neutral</td>\n",
       "    </tr>\n",
       "    <tr>\n",
       "      <th>14252</th>\n",
       "      <td>14252</td>\n",
       "      <td>CrazySatire</td>\n",
       "      <td>No one calling that ‘BJP is communal’ in this ...</td>\n",
       "      <td>0.0</td>\n",
       "      <td>neutral</td>\n",
       "    </tr>\n",
       "    <tr>\n",
       "      <th>14255</th>\n",
       "      <td>14255</td>\n",
       "      <td>SONUPINKOO</td>\n",
       "      <td>I need Answer from @INCIndia @RahulGandhi @_Ma...</td>\n",
       "      <td>0.0</td>\n",
       "      <td>neutral</td>\n",
       "    </tr>\n",
       "    <tr>\n",
       "      <th>14256</th>\n",
       "      <td>14256</td>\n",
       "      <td>SunjayJK</td>\n",
       "      <td>@quizzicalguy In this #LokSabhaElections2019, ...</td>\n",
       "      <td>0.0</td>\n",
       "      <td>neutral</td>\n",
       "    </tr>\n",
       "  </tbody>\n",
       "</table>\n",
       "<p>4894 rows × 5 columns</p>\n",
       "</div>"
      ],
      "text/plain": [
       "       Unnamed: 0           User  \\\n",
       "1               1  drnitinchaube   \n",
       "2               2      mrvivek07   \n",
       "6               6    SandipGhose   \n",
       "8               8   usman_majid1   \n",
       "12             12    mayursejpal   \n",
       "...           ...            ...   \n",
       "14238       14238  vishantsarkar   \n",
       "14240       14240    CrazySatire   \n",
       "14252       14252    CrazySatire   \n",
       "14255       14255     SONUPINKOO   \n",
       "14256       14256       SunjayJK   \n",
       "\n",
       "                                                   Tweet  polarity    Label  \n",
       "1      Congrats for the change #australiavotes2019 an...       0.0  neutral  \n",
       "2      Peopel Say “Govt Ne 70 Years Kya kiya”.\\nUnse ...       0.0  neutral  \n",
       "6      @thakkar_sameet @BDUTT @surjitbhalla 4/n smack...       0.0  neutral  \n",
       "8      BJP will be nowhere in India after May 23. BJP...       0.0  neutral  \n",
       "12     My Predictions\\n\\nBJP+NDA = 300 to 310\\nCongre...       0.0  neutral  \n",
       "...                                                  ...       ...      ...  \n",
       "14238  @RahulGandhi The year has come 2019 when Natio...       0.0  neutral  \n",
       "14240  @nmannathukkaren @ShashiTharoor Modi’s fate wi...       0.0  neutral  \n",
       "14252  No one calling that ‘BJP is communal’ in this ...       0.0  neutral  \n",
       "14255  I need Answer from @INCIndia @RahulGandhi @_Ma...       0.0  neutral  \n",
       "14256  @quizzicalguy In this #LokSabhaElections2019, ...       0.0  neutral  \n",
       "\n",
       "[4894 rows x 5 columns]"
      ]
     },
     "execution_count": 26,
     "metadata": {},
     "output_type": "execute_result"
    }
   ],
   "source": [
    "neutral_rahul = rahul[rahul['polarity']==0.0000]\n",
    "neutral_rahul"
   ]
  },
  {
   "cell_type": "code",
   "execution_count": 27,
   "id": "7a759756-2bce-4890-a658-2e42a03f30b1",
   "metadata": {},
   "outputs": [],
   "source": [
    "remove_neutral_rahul = rahul['polarity'].isin(neutral_rahul['polarity'])\n",
    "rahul.drop(rahul[remove_neutral_rahul].index,inplace=True)"
   ]
  },
  {
   "cell_type": "code",
   "execution_count": 28,
   "id": "349551f2-0496-4104-ba04-a7e875edb08a",
   "metadata": {},
   "outputs": [
    {
     "name": "stdout",
     "output_type": "stream",
     "text": [
      "(4894, 5)\n",
      "(9367, 5)\n"
     ]
    }
   ],
   "source": [
    "print(neutral_rahul.shape)\n",
    "print(rahul.shape)"
   ]
  },
  {
   "cell_type": "code",
   "execution_count": 29,
   "id": "4f4e4967-4e16-4001-b30c-a2f7db798a87",
   "metadata": {},
   "outputs": [
    {
     "name": "stdout",
     "output_type": "stream",
     "text": [
      "(17482, 5)\n",
      "(9367, 5)\n"
     ]
    }
   ],
   "source": [
    "print(modi.shape)\n",
    "print(rahul.shape)"
   ]
  },
  {
   "cell_type": "code",
   "execution_count": 30,
   "id": "0e77c883-b680-43e3-b6fa-e1fa6e17fbf3",
   "metadata": {},
   "outputs": [],
   "source": [
    "#modi\n",
    "np.random.seed(10)\n",
    "remove_n = 8182\n",
    "drop_indicies = np.random.choice(modi.index,remove_n,replace=False)\n",
    "df_modi = modi.drop(drop_indicies)"
   ]
  },
  {
   "cell_type": "code",
   "execution_count": 31,
   "id": "b0ca1cc6-6f05-4414-8a86-cccb5db9cf55",
   "metadata": {},
   "outputs": [
    {
     "data": {
      "text/plain": [
       "(9300, 5)"
      ]
     },
     "execution_count": 31,
     "metadata": {},
     "output_type": "execute_result"
    }
   ],
   "source": [
    "df_modi.shape"
   ]
  },
  {
   "cell_type": "code",
   "execution_count": 32,
   "id": "d30a7426-659a-42b5-a4e7-05ceefeac888",
   "metadata": {},
   "outputs": [],
   "source": [
    "#rahul\n",
    "np.random.seed(10)\n",
    "remove_n = 67\n",
    "drop_indicies = np.random.choice(rahul.index,remove_n,replace=False)\n",
    "df_rahul = rahul.drop(drop_indicies)"
   ]
  },
  {
   "cell_type": "code",
   "execution_count": 33,
   "id": "27dcf2b1-eddb-4e79-942e-732688c1ad73",
   "metadata": {},
   "outputs": [
    {
     "data": {
      "text/plain": [
       "(9300, 5)"
      ]
     },
     "execution_count": 33,
     "metadata": {},
     "output_type": "execute_result"
    }
   ],
   "source": [
    "df_rahul.shape"
   ]
  },
  {
   "cell_type": "markdown",
   "id": "9c84c2a1-2bb9-4573-bfea-734decbbc296",
   "metadata": {},
   "source": [
    "# Prediction about indian election"
   ]
  },
  {
   "cell_type": "code",
   "execution_count": 34,
   "id": "f128850c-efd7-42ac-8ed2-2330f4ea17f4",
   "metadata": {},
   "outputs": [
    {
     "data": {
      "text/html": [
       "<div>\n",
       "<style scoped>\n",
       "    .dataframe tbody tr th:only-of-type {\n",
       "        vertical-align: middle;\n",
       "    }\n",
       "\n",
       "    .dataframe tbody tr th {\n",
       "        vertical-align: top;\n",
       "    }\n",
       "\n",
       "    .dataframe thead th {\n",
       "        text-align: right;\n",
       "    }\n",
       "</style>\n",
       "<table border=\"1\" class=\"dataframe\">\n",
       "  <thead>\n",
       "    <tr style=\"text-align: right;\">\n",
       "      <th></th>\n",
       "      <th>Unnamed: 0</th>\n",
       "      <th>User</th>\n",
       "      <th>Tweet</th>\n",
       "      <th>polarity</th>\n",
       "    </tr>\n",
       "    <tr>\n",
       "      <th>Label</th>\n",
       "      <th></th>\n",
       "      <th></th>\n",
       "      <th></th>\n",
       "      <th></th>\n",
       "    </tr>\n",
       "  </thead>\n",
       "  <tbody>\n",
       "    <tr>\n",
       "      <th>negative</th>\n",
       "      <td>2710</td>\n",
       "      <td>2710</td>\n",
       "      <td>2710</td>\n",
       "      <td>2710</td>\n",
       "    </tr>\n",
       "    <tr>\n",
       "      <th>positive</th>\n",
       "      <td>6590</td>\n",
       "      <td>6590</td>\n",
       "      <td>6590</td>\n",
       "      <td>6590</td>\n",
       "    </tr>\n",
       "  </tbody>\n",
       "</table>\n",
       "</div>"
      ],
      "text/plain": [
       "          Unnamed: 0  User  Tweet  polarity\n",
       "Label                                      \n",
       "negative        2710  2710   2710      2710\n",
       "positive        6590  6590   6590      6590"
      ]
     },
     "execution_count": 34,
     "metadata": {},
     "output_type": "execute_result"
    }
   ],
   "source": [
    "modi_count = df_modi.groupby('Label').count()\n",
    "modi_count"
   ]
  },
  {
   "cell_type": "code",
   "execution_count": 35,
   "id": "72ef644a-0686-41dd-a854-9c7a72d0f095",
   "metadata": {},
   "outputs": [
    {
     "name": "stdout",
     "output_type": "stream",
     "text": [
      "271.0\n"
     ]
    },
    {
     "name": "stderr",
     "output_type": "stream",
     "text": [
      "C:\\Users\\ASUS\\AppData\\Local\\Temp\\ipykernel_14100\\1604031457.py:1: FutureWarning:\n",
      "\n",
      "Series.__getitem__ treating keys as positions is deprecated. In a future version, integer keys will always be treated as labels (consistent with DataFrame behavior). To access a value by position, use `ser.iloc[pos]`\n",
      "\n"
     ]
    }
   ],
   "source": [
    "neg_modi = (modi_count['polarity'][0]/1000)*100\n",
    "print(neg_modi)"
   ]
  },
  {
   "cell_type": "code",
   "execution_count": 36,
   "id": "70cfc408-2218-4145-96b9-7e0ee265082b",
   "metadata": {},
   "outputs": [
    {
     "name": "stdout",
     "output_type": "stream",
     "text": [
      "659.0\n"
     ]
    },
    {
     "name": "stderr",
     "output_type": "stream",
     "text": [
      "C:\\Users\\ASUS\\AppData\\Local\\Temp\\ipykernel_14100\\3828785484.py:1: FutureWarning:\n",
      "\n",
      "Series.__getitem__ treating keys as positions is deprecated. In a future version, integer keys will always be treated as labels (consistent with DataFrame behavior). To access a value by position, use `ser.iloc[pos]`\n",
      "\n"
     ]
    }
   ],
   "source": [
    "pos_modi = (modi_count['polarity'][1]/1000)*100\n",
    "print(pos_modi)"
   ]
  },
  {
   "cell_type": "code",
   "execution_count": 37,
   "id": "63814bf9-db8d-4bb4-b34c-24191759f3c4",
   "metadata": {},
   "outputs": [
    {
     "data": {
      "text/html": [
       "<div>\n",
       "<style scoped>\n",
       "    .dataframe tbody tr th:only-of-type {\n",
       "        vertical-align: middle;\n",
       "    }\n",
       "\n",
       "    .dataframe tbody tr th {\n",
       "        vertical-align: top;\n",
       "    }\n",
       "\n",
       "    .dataframe thead th {\n",
       "        text-align: right;\n",
       "    }\n",
       "</style>\n",
       "<table border=\"1\" class=\"dataframe\">\n",
       "  <thead>\n",
       "    <tr style=\"text-align: right;\">\n",
       "      <th></th>\n",
       "      <th>Unnamed: 0</th>\n",
       "      <th>User</th>\n",
       "      <th>Tweet</th>\n",
       "      <th>polarity</th>\n",
       "    </tr>\n",
       "    <tr>\n",
       "      <th>Label</th>\n",
       "      <th></th>\n",
       "      <th></th>\n",
       "      <th></th>\n",
       "      <th></th>\n",
       "    </tr>\n",
       "  </thead>\n",
       "  <tbody>\n",
       "    <tr>\n",
       "      <th>negative</th>\n",
       "      <td>3151</td>\n",
       "      <td>3151</td>\n",
       "      <td>3151</td>\n",
       "      <td>3151</td>\n",
       "    </tr>\n",
       "    <tr>\n",
       "      <th>positive</th>\n",
       "      <td>6149</td>\n",
       "      <td>6149</td>\n",
       "      <td>6149</td>\n",
       "      <td>6149</td>\n",
       "    </tr>\n",
       "  </tbody>\n",
       "</table>\n",
       "</div>"
      ],
      "text/plain": [
       "          Unnamed: 0  User  Tweet  polarity\n",
       "Label                                      \n",
       "negative        3151  3151   3151      3151\n",
       "positive        6149  6149   6149      6149"
      ]
     },
     "execution_count": 37,
     "metadata": {},
     "output_type": "execute_result"
    }
   ],
   "source": [
    "rahul_count = df_rahul.groupby('Label').count()\n",
    "rahul_count"
   ]
  },
  {
   "cell_type": "code",
   "execution_count": 38,
   "id": "d984c93f-d36b-437b-a58c-cfe4ed344245",
   "metadata": {},
   "outputs": [
    {
     "name": "stdout",
     "output_type": "stream",
     "text": [
      "315.09999999999997\n"
     ]
    },
    {
     "name": "stderr",
     "output_type": "stream",
     "text": [
      "C:\\Users\\ASUS\\AppData\\Local\\Temp\\ipykernel_14100\\501401589.py:1: FutureWarning:\n",
      "\n",
      "Series.__getitem__ treating keys as positions is deprecated. In a future version, integer keys will always be treated as labels (consistent with DataFrame behavior). To access a value by position, use `ser.iloc[pos]`\n",
      "\n"
     ]
    }
   ],
   "source": [
    "neg_rahul = (rahul_count['polarity'][0]/1000)*100\n",
    "print(neg_rahul)"
   ]
  },
  {
   "cell_type": "code",
   "execution_count": 39,
   "id": "04b3e183-1949-4d05-9ef3-a33e6b107ed3",
   "metadata": {},
   "outputs": [
    {
     "name": "stdout",
     "output_type": "stream",
     "text": [
      "614.9\n"
     ]
    },
    {
     "name": "stderr",
     "output_type": "stream",
     "text": [
      "C:\\Users\\ASUS\\AppData\\Local\\Temp\\ipykernel_14100\\1962226632.py:1: FutureWarning:\n",
      "\n",
      "Series.__getitem__ treating keys as positions is deprecated. In a future version, integer keys will always be treated as labels (consistent with DataFrame behavior). To access a value by position, use `ser.iloc[pos]`\n",
      "\n"
     ]
    }
   ],
   "source": [
    "pos_rahul = (rahul_count['polarity'][1]/1000)*100\n",
    "print(pos_rahul)"
   ]
  },
  {
   "cell_type": "code",
   "execution_count": 40,
   "id": "fa1c4b25-f09f-4c60-be4d-0707caae5ca2",
   "metadata": {},
   "outputs": [
    {
     "data": {
      "application/vnd.plotly.v1+json": {
       "config": {
        "plotlyServerURL": "https://plot.ly"
       },
       "data": [
        {
         "name": "negative",
         "type": "bar",
         "x": [
          "modi",
          "rahul"
         ],
         "y": [
          271,
          315.09999999999997
         ]
        },
        {
         "name": "positive",
         "type": "bar",
         "x": [
          "modi",
          "rahul"
         ],
         "y": [
          659,
          614.9
         ]
        }
       ],
       "layout": {
        "barmode": "group",
        "template": {
         "data": {
          "bar": [
           {
            "error_x": {
             "color": "#2a3f5f"
            },
            "error_y": {
             "color": "#2a3f5f"
            },
            "marker": {
             "line": {
              "color": "#E5ECF6",
              "width": 0.5
             },
             "pattern": {
              "fillmode": "overlay",
              "size": 10,
              "solidity": 0.2
             }
            },
            "type": "bar"
           }
          ],
          "barpolar": [
           {
            "marker": {
             "line": {
              "color": "#E5ECF6",
              "width": 0.5
             },
             "pattern": {
              "fillmode": "overlay",
              "size": 10,
              "solidity": 0.2
             }
            },
            "type": "barpolar"
           }
          ],
          "carpet": [
           {
            "aaxis": {
             "endlinecolor": "#2a3f5f",
             "gridcolor": "white",
             "linecolor": "white",
             "minorgridcolor": "white",
             "startlinecolor": "#2a3f5f"
            },
            "baxis": {
             "endlinecolor": "#2a3f5f",
             "gridcolor": "white",
             "linecolor": "white",
             "minorgridcolor": "white",
             "startlinecolor": "#2a3f5f"
            },
            "type": "carpet"
           }
          ],
          "choropleth": [
           {
            "colorbar": {
             "outlinewidth": 0,
             "ticks": ""
            },
            "type": "choropleth"
           }
          ],
          "contour": [
           {
            "colorbar": {
             "outlinewidth": 0,
             "ticks": ""
            },
            "colorscale": [
             [
              0,
              "#0d0887"
             ],
             [
              0.1111111111111111,
              "#46039f"
             ],
             [
              0.2222222222222222,
              "#7201a8"
             ],
             [
              0.3333333333333333,
              "#9c179e"
             ],
             [
              0.4444444444444444,
              "#bd3786"
             ],
             [
              0.5555555555555556,
              "#d8576b"
             ],
             [
              0.6666666666666666,
              "#ed7953"
             ],
             [
              0.7777777777777778,
              "#fb9f3a"
             ],
             [
              0.8888888888888888,
              "#fdca26"
             ],
             [
              1,
              "#f0f921"
             ]
            ],
            "type": "contour"
           }
          ],
          "contourcarpet": [
           {
            "colorbar": {
             "outlinewidth": 0,
             "ticks": ""
            },
            "type": "contourcarpet"
           }
          ],
          "heatmap": [
           {
            "colorbar": {
             "outlinewidth": 0,
             "ticks": ""
            },
            "colorscale": [
             [
              0,
              "#0d0887"
             ],
             [
              0.1111111111111111,
              "#46039f"
             ],
             [
              0.2222222222222222,
              "#7201a8"
             ],
             [
              0.3333333333333333,
              "#9c179e"
             ],
             [
              0.4444444444444444,
              "#bd3786"
             ],
             [
              0.5555555555555556,
              "#d8576b"
             ],
             [
              0.6666666666666666,
              "#ed7953"
             ],
             [
              0.7777777777777778,
              "#fb9f3a"
             ],
             [
              0.8888888888888888,
              "#fdca26"
             ],
             [
              1,
              "#f0f921"
             ]
            ],
            "type": "heatmap"
           }
          ],
          "heatmapgl": [
           {
            "colorbar": {
             "outlinewidth": 0,
             "ticks": ""
            },
            "colorscale": [
             [
              0,
              "#0d0887"
             ],
             [
              0.1111111111111111,
              "#46039f"
             ],
             [
              0.2222222222222222,
              "#7201a8"
             ],
             [
              0.3333333333333333,
              "#9c179e"
             ],
             [
              0.4444444444444444,
              "#bd3786"
             ],
             [
              0.5555555555555556,
              "#d8576b"
             ],
             [
              0.6666666666666666,
              "#ed7953"
             ],
             [
              0.7777777777777778,
              "#fb9f3a"
             ],
             [
              0.8888888888888888,
              "#fdca26"
             ],
             [
              1,
              "#f0f921"
             ]
            ],
            "type": "heatmapgl"
           }
          ],
          "histogram": [
           {
            "marker": {
             "pattern": {
              "fillmode": "overlay",
              "size": 10,
              "solidity": 0.2
             }
            },
            "type": "histogram"
           }
          ],
          "histogram2d": [
           {
            "colorbar": {
             "outlinewidth": 0,
             "ticks": ""
            },
            "colorscale": [
             [
              0,
              "#0d0887"
             ],
             [
              0.1111111111111111,
              "#46039f"
             ],
             [
              0.2222222222222222,
              "#7201a8"
             ],
             [
              0.3333333333333333,
              "#9c179e"
             ],
             [
              0.4444444444444444,
              "#bd3786"
             ],
             [
              0.5555555555555556,
              "#d8576b"
             ],
             [
              0.6666666666666666,
              "#ed7953"
             ],
             [
              0.7777777777777778,
              "#fb9f3a"
             ],
             [
              0.8888888888888888,
              "#fdca26"
             ],
             [
              1,
              "#f0f921"
             ]
            ],
            "type": "histogram2d"
           }
          ],
          "histogram2dcontour": [
           {
            "colorbar": {
             "outlinewidth": 0,
             "ticks": ""
            },
            "colorscale": [
             [
              0,
              "#0d0887"
             ],
             [
              0.1111111111111111,
              "#46039f"
             ],
             [
              0.2222222222222222,
              "#7201a8"
             ],
             [
              0.3333333333333333,
              "#9c179e"
             ],
             [
              0.4444444444444444,
              "#bd3786"
             ],
             [
              0.5555555555555556,
              "#d8576b"
             ],
             [
              0.6666666666666666,
              "#ed7953"
             ],
             [
              0.7777777777777778,
              "#fb9f3a"
             ],
             [
              0.8888888888888888,
              "#fdca26"
             ],
             [
              1,
              "#f0f921"
             ]
            ],
            "type": "histogram2dcontour"
           }
          ],
          "mesh3d": [
           {
            "colorbar": {
             "outlinewidth": 0,
             "ticks": ""
            },
            "type": "mesh3d"
           }
          ],
          "parcoords": [
           {
            "line": {
             "colorbar": {
              "outlinewidth": 0,
              "ticks": ""
             }
            },
            "type": "parcoords"
           }
          ],
          "pie": [
           {
            "automargin": true,
            "type": "pie"
           }
          ],
          "scatter": [
           {
            "fillpattern": {
             "fillmode": "overlay",
             "size": 10,
             "solidity": 0.2
            },
            "type": "scatter"
           }
          ],
          "scatter3d": [
           {
            "line": {
             "colorbar": {
              "outlinewidth": 0,
              "ticks": ""
             }
            },
            "marker": {
             "colorbar": {
              "outlinewidth": 0,
              "ticks": ""
             }
            },
            "type": "scatter3d"
           }
          ],
          "scattercarpet": [
           {
            "marker": {
             "colorbar": {
              "outlinewidth": 0,
              "ticks": ""
             }
            },
            "type": "scattercarpet"
           }
          ],
          "scattergeo": [
           {
            "marker": {
             "colorbar": {
              "outlinewidth": 0,
              "ticks": ""
             }
            },
            "type": "scattergeo"
           }
          ],
          "scattergl": [
           {
            "marker": {
             "colorbar": {
              "outlinewidth": 0,
              "ticks": ""
             }
            },
            "type": "scattergl"
           }
          ],
          "scattermapbox": [
           {
            "marker": {
             "colorbar": {
              "outlinewidth": 0,
              "ticks": ""
             }
            },
            "type": "scattermapbox"
           }
          ],
          "scatterpolar": [
           {
            "marker": {
             "colorbar": {
              "outlinewidth": 0,
              "ticks": ""
             }
            },
            "type": "scatterpolar"
           }
          ],
          "scatterpolargl": [
           {
            "marker": {
             "colorbar": {
              "outlinewidth": 0,
              "ticks": ""
             }
            },
            "type": "scatterpolargl"
           }
          ],
          "scatterternary": [
           {
            "marker": {
             "colorbar": {
              "outlinewidth": 0,
              "ticks": ""
             }
            },
            "type": "scatterternary"
           }
          ],
          "surface": [
           {
            "colorbar": {
             "outlinewidth": 0,
             "ticks": ""
            },
            "colorscale": [
             [
              0,
              "#0d0887"
             ],
             [
              0.1111111111111111,
              "#46039f"
             ],
             [
              0.2222222222222222,
              "#7201a8"
             ],
             [
              0.3333333333333333,
              "#9c179e"
             ],
             [
              0.4444444444444444,
              "#bd3786"
             ],
             [
              0.5555555555555556,
              "#d8576b"
             ],
             [
              0.6666666666666666,
              "#ed7953"
             ],
             [
              0.7777777777777778,
              "#fb9f3a"
             ],
             [
              0.8888888888888888,
              "#fdca26"
             ],
             [
              1,
              "#f0f921"
             ]
            ],
            "type": "surface"
           }
          ],
          "table": [
           {
            "cells": {
             "fill": {
              "color": "#EBF0F8"
             },
             "line": {
              "color": "white"
             }
            },
            "header": {
             "fill": {
              "color": "#C8D4E3"
             },
             "line": {
              "color": "white"
             }
            },
            "type": "table"
           }
          ]
         },
         "layout": {
          "annotationdefaults": {
           "arrowcolor": "#2a3f5f",
           "arrowhead": 0,
           "arrowwidth": 1
          },
          "autotypenumbers": "strict",
          "coloraxis": {
           "colorbar": {
            "outlinewidth": 0,
            "ticks": ""
           }
          },
          "colorscale": {
           "diverging": [
            [
             0,
             "#8e0152"
            ],
            [
             0.1,
             "#c51b7d"
            ],
            [
             0.2,
             "#de77ae"
            ],
            [
             0.3,
             "#f1b6da"
            ],
            [
             0.4,
             "#fde0ef"
            ],
            [
             0.5,
             "#f7f7f7"
            ],
            [
             0.6,
             "#e6f5d0"
            ],
            [
             0.7,
             "#b8e186"
            ],
            [
             0.8,
             "#7fbc41"
            ],
            [
             0.9,
             "#4d9221"
            ],
            [
             1,
             "#276419"
            ]
           ],
           "sequential": [
            [
             0,
             "#0d0887"
            ],
            [
             0.1111111111111111,
             "#46039f"
            ],
            [
             0.2222222222222222,
             "#7201a8"
            ],
            [
             0.3333333333333333,
             "#9c179e"
            ],
            [
             0.4444444444444444,
             "#bd3786"
            ],
            [
             0.5555555555555556,
             "#d8576b"
            ],
            [
             0.6666666666666666,
             "#ed7953"
            ],
            [
             0.7777777777777778,
             "#fb9f3a"
            ],
            [
             0.8888888888888888,
             "#fdca26"
            ],
            [
             1,
             "#f0f921"
            ]
           ],
           "sequentialminus": [
            [
             0,
             "#0d0887"
            ],
            [
             0.1111111111111111,
             "#46039f"
            ],
            [
             0.2222222222222222,
             "#7201a8"
            ],
            [
             0.3333333333333333,
             "#9c179e"
            ],
            [
             0.4444444444444444,
             "#bd3786"
            ],
            [
             0.5555555555555556,
             "#d8576b"
            ],
            [
             0.6666666666666666,
             "#ed7953"
            ],
            [
             0.7777777777777778,
             "#fb9f3a"
            ],
            [
             0.8888888888888888,
             "#fdca26"
            ],
            [
             1,
             "#f0f921"
            ]
           ]
          },
          "colorway": [
           "#636efa",
           "#EF553B",
           "#00cc96",
           "#ab63fa",
           "#FFA15A",
           "#19d3f3",
           "#FF6692",
           "#B6E880",
           "#FF97FF",
           "#FECB52"
          ],
          "font": {
           "color": "#2a3f5f"
          },
          "geo": {
           "bgcolor": "white",
           "lakecolor": "white",
           "landcolor": "#E5ECF6",
           "showlakes": true,
           "showland": true,
           "subunitcolor": "white"
          },
          "hoverlabel": {
           "align": "left"
          },
          "hovermode": "closest",
          "mapbox": {
           "style": "light"
          },
          "paper_bgcolor": "white",
          "plot_bgcolor": "#E5ECF6",
          "polar": {
           "angularaxis": {
            "gridcolor": "white",
            "linecolor": "white",
            "ticks": ""
           },
           "bgcolor": "#E5ECF6",
           "radialaxis": {
            "gridcolor": "white",
            "linecolor": "white",
            "ticks": ""
           }
          },
          "scene": {
           "xaxis": {
            "backgroundcolor": "#E5ECF6",
            "gridcolor": "white",
            "gridwidth": 2,
            "linecolor": "white",
            "showbackground": true,
            "ticks": "",
            "zerolinecolor": "white"
           },
           "yaxis": {
            "backgroundcolor": "#E5ECF6",
            "gridcolor": "white",
            "gridwidth": 2,
            "linecolor": "white",
            "showbackground": true,
            "ticks": "",
            "zerolinecolor": "white"
           },
           "zaxis": {
            "backgroundcolor": "#E5ECF6",
            "gridcolor": "white",
            "gridwidth": 2,
            "linecolor": "white",
            "showbackground": true,
            "ticks": "",
            "zerolinecolor": "white"
           }
          },
          "shapedefaults": {
           "line": {
            "color": "#2a3f5f"
           }
          },
          "ternary": {
           "aaxis": {
            "gridcolor": "white",
            "linecolor": "white",
            "ticks": ""
           },
           "baxis": {
            "gridcolor": "white",
            "linecolor": "white",
            "ticks": ""
           },
           "bgcolor": "#E5ECF6",
           "caxis": {
            "gridcolor": "white",
            "linecolor": "white",
            "ticks": ""
           }
          },
          "title": {
           "x": 0.05
          },
          "xaxis": {
           "automargin": true,
           "gridcolor": "white",
           "linecolor": "white",
           "ticks": "",
           "title": {
            "standoff": 15
           },
           "zerolinecolor": "white",
           "zerolinewidth": 2
          },
          "yaxis": {
           "automargin": true,
           "gridcolor": "white",
           "linecolor": "white",
           "ticks": "",
           "title": {
            "standoff": 15
           },
           "zerolinecolor": "white",
           "zerolinewidth": 2
          }
         }
        }
       }
      },
      "text/html": [
       "<div>                            <div id=\"7c81e27d-e00e-4321-b6d6-a1f282073164\" class=\"plotly-graph-div\" style=\"height:525px; width:100%;\"></div>            <script type=\"text/javascript\">                require([\"plotly\"], function(Plotly) {                    window.PLOTLYENV=window.PLOTLYENV || {};                                    if (document.getElementById(\"7c81e27d-e00e-4321-b6d6-a1f282073164\")) {                    Plotly.newPlot(                        \"7c81e27d-e00e-4321-b6d6-a1f282073164\",                        [{\"name\":\"negative\",\"x\":[\"modi\",\"rahul\"],\"y\":[271.0,315.09999999999997],\"type\":\"bar\"},{\"name\":\"positive\",\"x\":[\"modi\",\"rahul\"],\"y\":[659.0,614.9],\"type\":\"bar\"}],                        {\"template\":{\"data\":{\"histogram2dcontour\":[{\"type\":\"histogram2dcontour\",\"colorbar\":{\"outlinewidth\":0,\"ticks\":\"\"},\"colorscale\":[[0.0,\"#0d0887\"],[0.1111111111111111,\"#46039f\"],[0.2222222222222222,\"#7201a8\"],[0.3333333333333333,\"#9c179e\"],[0.4444444444444444,\"#bd3786\"],[0.5555555555555556,\"#d8576b\"],[0.6666666666666666,\"#ed7953\"],[0.7777777777777778,\"#fb9f3a\"],[0.8888888888888888,\"#fdca26\"],[1.0,\"#f0f921\"]]}],\"choropleth\":[{\"type\":\"choropleth\",\"colorbar\":{\"outlinewidth\":0,\"ticks\":\"\"}}],\"histogram2d\":[{\"type\":\"histogram2d\",\"colorbar\":{\"outlinewidth\":0,\"ticks\":\"\"},\"colorscale\":[[0.0,\"#0d0887\"],[0.1111111111111111,\"#46039f\"],[0.2222222222222222,\"#7201a8\"],[0.3333333333333333,\"#9c179e\"],[0.4444444444444444,\"#bd3786\"],[0.5555555555555556,\"#d8576b\"],[0.6666666666666666,\"#ed7953\"],[0.7777777777777778,\"#fb9f3a\"],[0.8888888888888888,\"#fdca26\"],[1.0,\"#f0f921\"]]}],\"heatmap\":[{\"type\":\"heatmap\",\"colorbar\":{\"outlinewidth\":0,\"ticks\":\"\"},\"colorscale\":[[0.0,\"#0d0887\"],[0.1111111111111111,\"#46039f\"],[0.2222222222222222,\"#7201a8\"],[0.3333333333333333,\"#9c179e\"],[0.4444444444444444,\"#bd3786\"],[0.5555555555555556,\"#d8576b\"],[0.6666666666666666,\"#ed7953\"],[0.7777777777777778,\"#fb9f3a\"],[0.8888888888888888,\"#fdca26\"],[1.0,\"#f0f921\"]]}],\"heatmapgl\":[{\"type\":\"heatmapgl\",\"colorbar\":{\"outlinewidth\":0,\"ticks\":\"\"},\"colorscale\":[[0.0,\"#0d0887\"],[0.1111111111111111,\"#46039f\"],[0.2222222222222222,\"#7201a8\"],[0.3333333333333333,\"#9c179e\"],[0.4444444444444444,\"#bd3786\"],[0.5555555555555556,\"#d8576b\"],[0.6666666666666666,\"#ed7953\"],[0.7777777777777778,\"#fb9f3a\"],[0.8888888888888888,\"#fdca26\"],[1.0,\"#f0f921\"]]}],\"contourcarpet\":[{\"type\":\"contourcarpet\",\"colorbar\":{\"outlinewidth\":0,\"ticks\":\"\"}}],\"contour\":[{\"type\":\"contour\",\"colorbar\":{\"outlinewidth\":0,\"ticks\":\"\"},\"colorscale\":[[0.0,\"#0d0887\"],[0.1111111111111111,\"#46039f\"],[0.2222222222222222,\"#7201a8\"],[0.3333333333333333,\"#9c179e\"],[0.4444444444444444,\"#bd3786\"],[0.5555555555555556,\"#d8576b\"],[0.6666666666666666,\"#ed7953\"],[0.7777777777777778,\"#fb9f3a\"],[0.8888888888888888,\"#fdca26\"],[1.0,\"#f0f921\"]]}],\"surface\":[{\"type\":\"surface\",\"colorbar\":{\"outlinewidth\":0,\"ticks\":\"\"},\"colorscale\":[[0.0,\"#0d0887\"],[0.1111111111111111,\"#46039f\"],[0.2222222222222222,\"#7201a8\"],[0.3333333333333333,\"#9c179e\"],[0.4444444444444444,\"#bd3786\"],[0.5555555555555556,\"#d8576b\"],[0.6666666666666666,\"#ed7953\"],[0.7777777777777778,\"#fb9f3a\"],[0.8888888888888888,\"#fdca26\"],[1.0,\"#f0f921\"]]}],\"mesh3d\":[{\"type\":\"mesh3d\",\"colorbar\":{\"outlinewidth\":0,\"ticks\":\"\"}}],\"scatter\":[{\"fillpattern\":{\"fillmode\":\"overlay\",\"size\":10,\"solidity\":0.2},\"type\":\"scatter\"}],\"parcoords\":[{\"type\":\"parcoords\",\"line\":{\"colorbar\":{\"outlinewidth\":0,\"ticks\":\"\"}}}],\"scatterpolargl\":[{\"type\":\"scatterpolargl\",\"marker\":{\"colorbar\":{\"outlinewidth\":0,\"ticks\":\"\"}}}],\"bar\":[{\"error_x\":{\"color\":\"#2a3f5f\"},\"error_y\":{\"color\":\"#2a3f5f\"},\"marker\":{\"line\":{\"color\":\"#E5ECF6\",\"width\":0.5},\"pattern\":{\"fillmode\":\"overlay\",\"size\":10,\"solidity\":0.2}},\"type\":\"bar\"}],\"scattergeo\":[{\"type\":\"scattergeo\",\"marker\":{\"colorbar\":{\"outlinewidth\":0,\"ticks\":\"\"}}}],\"scatterpolar\":[{\"type\":\"scatterpolar\",\"marker\":{\"colorbar\":{\"outlinewidth\":0,\"ticks\":\"\"}}}],\"histogram\":[{\"marker\":{\"pattern\":{\"fillmode\":\"overlay\",\"size\":10,\"solidity\":0.2}},\"type\":\"histogram\"}],\"scattergl\":[{\"type\":\"scattergl\",\"marker\":{\"colorbar\":{\"outlinewidth\":0,\"ticks\":\"\"}}}],\"scatter3d\":[{\"type\":\"scatter3d\",\"line\":{\"colorbar\":{\"outlinewidth\":0,\"ticks\":\"\"}},\"marker\":{\"colorbar\":{\"outlinewidth\":0,\"ticks\":\"\"}}}],\"scattermapbox\":[{\"type\":\"scattermapbox\",\"marker\":{\"colorbar\":{\"outlinewidth\":0,\"ticks\":\"\"}}}],\"scatterternary\":[{\"type\":\"scatterternary\",\"marker\":{\"colorbar\":{\"outlinewidth\":0,\"ticks\":\"\"}}}],\"scattercarpet\":[{\"type\":\"scattercarpet\",\"marker\":{\"colorbar\":{\"outlinewidth\":0,\"ticks\":\"\"}}}],\"carpet\":[{\"aaxis\":{\"endlinecolor\":\"#2a3f5f\",\"gridcolor\":\"white\",\"linecolor\":\"white\",\"minorgridcolor\":\"white\",\"startlinecolor\":\"#2a3f5f\"},\"baxis\":{\"endlinecolor\":\"#2a3f5f\",\"gridcolor\":\"white\",\"linecolor\":\"white\",\"minorgridcolor\":\"white\",\"startlinecolor\":\"#2a3f5f\"},\"type\":\"carpet\"}],\"table\":[{\"cells\":{\"fill\":{\"color\":\"#EBF0F8\"},\"line\":{\"color\":\"white\"}},\"header\":{\"fill\":{\"color\":\"#C8D4E3\"},\"line\":{\"color\":\"white\"}},\"type\":\"table\"}],\"barpolar\":[{\"marker\":{\"line\":{\"color\":\"#E5ECF6\",\"width\":0.5},\"pattern\":{\"fillmode\":\"overlay\",\"size\":10,\"solidity\":0.2}},\"type\":\"barpolar\"}],\"pie\":[{\"automargin\":true,\"type\":\"pie\"}]},\"layout\":{\"autotypenumbers\":\"strict\",\"colorway\":[\"#636efa\",\"#EF553B\",\"#00cc96\",\"#ab63fa\",\"#FFA15A\",\"#19d3f3\",\"#FF6692\",\"#B6E880\",\"#FF97FF\",\"#FECB52\"],\"font\":{\"color\":\"#2a3f5f\"},\"hovermode\":\"closest\",\"hoverlabel\":{\"align\":\"left\"},\"paper_bgcolor\":\"white\",\"plot_bgcolor\":\"#E5ECF6\",\"polar\":{\"bgcolor\":\"#E5ECF6\",\"angularaxis\":{\"gridcolor\":\"white\",\"linecolor\":\"white\",\"ticks\":\"\"},\"radialaxis\":{\"gridcolor\":\"white\",\"linecolor\":\"white\",\"ticks\":\"\"}},\"ternary\":{\"bgcolor\":\"#E5ECF6\",\"aaxis\":{\"gridcolor\":\"white\",\"linecolor\":\"white\",\"ticks\":\"\"},\"baxis\":{\"gridcolor\":\"white\",\"linecolor\":\"white\",\"ticks\":\"\"},\"caxis\":{\"gridcolor\":\"white\",\"linecolor\":\"white\",\"ticks\":\"\"}},\"coloraxis\":{\"colorbar\":{\"outlinewidth\":0,\"ticks\":\"\"}},\"colorscale\":{\"sequential\":[[0.0,\"#0d0887\"],[0.1111111111111111,\"#46039f\"],[0.2222222222222222,\"#7201a8\"],[0.3333333333333333,\"#9c179e\"],[0.4444444444444444,\"#bd3786\"],[0.5555555555555556,\"#d8576b\"],[0.6666666666666666,\"#ed7953\"],[0.7777777777777778,\"#fb9f3a\"],[0.8888888888888888,\"#fdca26\"],[1.0,\"#f0f921\"]],\"sequentialminus\":[[0.0,\"#0d0887\"],[0.1111111111111111,\"#46039f\"],[0.2222222222222222,\"#7201a8\"],[0.3333333333333333,\"#9c179e\"],[0.4444444444444444,\"#bd3786\"],[0.5555555555555556,\"#d8576b\"],[0.6666666666666666,\"#ed7953\"],[0.7777777777777778,\"#fb9f3a\"],[0.8888888888888888,\"#fdca26\"],[1.0,\"#f0f921\"]],\"diverging\":[[0,\"#8e0152\"],[0.1,\"#c51b7d\"],[0.2,\"#de77ae\"],[0.3,\"#f1b6da\"],[0.4,\"#fde0ef\"],[0.5,\"#f7f7f7\"],[0.6,\"#e6f5d0\"],[0.7,\"#b8e186\"],[0.8,\"#7fbc41\"],[0.9,\"#4d9221\"],[1,\"#276419\"]]},\"xaxis\":{\"gridcolor\":\"white\",\"linecolor\":\"white\",\"ticks\":\"\",\"title\":{\"standoff\":15},\"zerolinecolor\":\"white\",\"automargin\":true,\"zerolinewidth\":2},\"yaxis\":{\"gridcolor\":\"white\",\"linecolor\":\"white\",\"ticks\":\"\",\"title\":{\"standoff\":15},\"zerolinecolor\":\"white\",\"automargin\":true,\"zerolinewidth\":2},\"scene\":{\"xaxis\":{\"backgroundcolor\":\"#E5ECF6\",\"gridcolor\":\"white\",\"linecolor\":\"white\",\"showbackground\":true,\"ticks\":\"\",\"zerolinecolor\":\"white\",\"gridwidth\":2},\"yaxis\":{\"backgroundcolor\":\"#E5ECF6\",\"gridcolor\":\"white\",\"linecolor\":\"white\",\"showbackground\":true,\"ticks\":\"\",\"zerolinecolor\":\"white\",\"gridwidth\":2},\"zaxis\":{\"backgroundcolor\":\"#E5ECF6\",\"gridcolor\":\"white\",\"linecolor\":\"white\",\"showbackground\":true,\"ticks\":\"\",\"zerolinecolor\":\"white\",\"gridwidth\":2}},\"shapedefaults\":{\"line\":{\"color\":\"#2a3f5f\"}},\"annotationdefaults\":{\"arrowcolor\":\"#2a3f5f\",\"arrowhead\":0,\"arrowwidth\":1},\"geo\":{\"bgcolor\":\"white\",\"landcolor\":\"#E5ECF6\",\"subunitcolor\":\"white\",\"showland\":true,\"showlakes\":true,\"lakecolor\":\"white\"},\"title\":{\"x\":0.05},\"mapbox\":{\"style\":\"light\"}}},\"barmode\":\"group\"},                        {\"responsive\": true}                    ).then(function(){\n",
       "                            \n",
       "var gd = document.getElementById('7c81e27d-e00e-4321-b6d6-a1f282073164');\n",
       "var x = new MutationObserver(function (mutations, observer) {{\n",
       "        var display = window.getComputedStyle(gd).display;\n",
       "        if (!display || display === 'none') {{\n",
       "            console.log([gd, 'removed!']);\n",
       "            Plotly.purge(gd);\n",
       "            observer.disconnect();\n",
       "        }}\n",
       "}});\n",
       "\n",
       "// Listen for the removal of the full notebook cells\n",
       "var notebookContainer = gd.closest('#notebook-container');\n",
       "if (notebookContainer) {{\n",
       "    x.observe(notebookContainer, {childList: true});\n",
       "}}\n",
       "\n",
       "// Listen for the clearing of the current output cell\n",
       "var outputEl = gd.closest('.output');\n",
       "if (outputEl) {{\n",
       "    x.observe(outputEl, {childList: true});\n",
       "}}\n",
       "\n",
       "                        })                };                });            </script>        </div>"
      ]
     },
     "metadata": {},
     "output_type": "display_data"
    }
   ],
   "source": [
    "politicians = ['modi','rahul']\n",
    "\n",
    "neg_list = [neg_modi,neg_rahul]\n",
    "\n",
    "pos_list = [pos_modi,pos_rahul]\n",
    "\n",
    "iplot = go.Figure(data = [go.Bar(name='negative',x=politicians,y=neg_list),go.Bar(name='positive',x=politicians,y=pos_list)])\n",
    "iplot.update_layout(barmode='group')\n",
    "iplot.show()"
   ]
  },
  {
   "cell_type": "code",
   "execution_count": 41,
   "id": "d48b02a7",
   "metadata": {},
   "outputs": [],
   "source": [
    "iplot.write_html('plotly_figure.html')"
   ]
  },
  {
   "cell_type": "code",
   "execution_count": 42,
   "id": "673a5ef8-f8ad-4acb-a6f3-d8dccf5cce11",
   "metadata": {},
   "outputs": [
    {
     "name": "stdout",
     "output_type": "stream",
     "text": [
      "Based on the given dataset Modi will win the elections for 2024\n"
     ]
    }
   ],
   "source": [
    "if (pos_modi>pos_rahul,neg_modi<neg_rahul):\n",
    "    result = \"Based on the given dataset Modi will win the elections for 2024\"\n",
    "else:\n",
    "    result = \"Based on the given dataset Rahul will win the elections for 2024\"\n",
    "\n",
    "print(result)"
   ]
  },
  {
   "cell_type": "code",
   "execution_count": 43,
   "id": "d928ecc1",
   "metadata": {},
   "outputs": [],
   "source": [
    "import pickle\n",
    "\n",
    "myvar = [result]\n",
    "\n",
    "with open('file.pk1', 'wb') as file:\n",
    "\n",
    "        pickle.dump(myvar, file)"
   ]
  },
  {
   "cell_type": "code",
   "execution_count": 44,
   "id": "532764a0",
   "metadata": {},
   "outputs": [],
   "source": [
    "#import pickle\n",
    "\n",
    "#if (pos_modi>pos_rahul,neg_modi<neg_rahul):\n",
    "    #myvar = ['modi will win']\n",
    "\n",
    "    #with open('file.pk1', 'wb') as file:\n",
    "\n",
    "        #pickle.dump(myvar, file)\n",
    "#else:\n",
    "    #myvar = ['rahul will win']\n",
    "\n",
    "    #with open('file.pk1', 'wb') as file:\n",
    "\n",
    "        #pickle.dump(myvar, file)\n"
   ]
  },
  {
   "cell_type": "code",
   "execution_count": 45,
   "id": "25c94e52",
   "metadata": {},
   "outputs": [
    {
     "data": {
      "image/png": "[encoded data removed]",
      "text/plain": [
       "<Figure size 1200x600 with 2 Axes>"
      ]
     },
     "metadata": {},
     "output_type": "display_data"
    }
   ],
   "source": [
    "import matplotlib.pyplot as plt\n",
    "#Plotting the sentiment distribution\n",
    "plt.figure(figsize=(12, 6))\n",
    "\n",
    "#Modi reviews sentiment distribution\n",
    "plt.subplot(1, 2, 1)\n",
    "plt.hist(modi['polarity'], bins=30, color='blue', alpha=0.7, edgecolor='black')\n",
    "plt.title('Sentiment Distribution for Modi Tweets')\n",
    "plt.xlabel('Sentiment Polarity')\n",
    "plt.ylabel('Frequency')\n",
    "\n",
    "#Rahul reviews sentiment distribution\n",
    "plt.subplot(1, 2, 2)\n",
    "plt.hist(rahul['polarity'], bins=30, color='green', alpha=0.7, edgecolor='black')\n",
    "plt.title('Sentiment Distribution for Rahul Tweets')\n",
    "plt.xlabel('Sentiment Polarity')\n",
    "plt.ylabel('Frequency')\n",
    "\n",
    "plt.tight_layout()\n",
    "plt.savefig('matplotlib_figure.png', dpi=300)  # Adjust dpi as needed\n",
    "plt.show()\n"
   ]
  }
 ],
 "metadata": {
  "kernelspec": {
   "display_name": "Python 3 (ipykernel)",
   "language": "python",
   "name": "python3"
  },
  "language_info": {
   "codemirror_mode": {
    "name": "ipython",
    "version": 3
   },
   "file_extension": ".py",
   "mimetype": "text/x-python",
   "name": "python",
   "nbconvert_exporter": "python",
   "pygments_lexer": "ipython3",
   "version": "3.12.4"
  }
 },
 "nbformat": 4,
 "nbformat_minor": 5
}
